{
 "cells": [
  {
   "cell_type": "code",
   "execution_count": null,
   "metadata": {
    "collapsed": true
   },
   "outputs": [],
   "source": [
    "import time\n",
    "import re\n",
    "import requests\n"
   ]
  },
  {
   "cell_type": "code",
   "execution_count": null,
   "metadata": {
    "collapsed": true
   },
   "outputs": [],
   "source": [
    "def message_matches(user_id, message_text):\n",
    "    \n",
    "    '''\n",
    "    Check if the username and the word 'bot' appears in the text\n",
    "    '''\n",
    "    \n",
    "    regex_expression = '.*@' + user_id + '.*bot.*'\n",
    "    regex = re.compile(regex_expression)\n",
    "   \n",
    "    # Check if the message text matches the regex above\n",
    "    match = regex.match(message_text)\n",
    "    \n",
    "    # returns true if the match is not None (if the regex had a match)\n",
    "    return match != None \n"
   ]
  },
  {
   "cell_type": "code",
   "execution_count": null,
   "metadata": {
    "collapsed": true
   },
   "outputs": [],
   "source": [
    "def extract_topic(message_text):\n",
    "    \n",
    "    '''\n",
    "    Extract topic. The regex relies on the question having a specific form\n",
    "    '''\n",
    "    \n",
    "    regex_expression = 'what is the latest news on (.+)'\n",
    "    regex = re.compile(regex_expression, re.IGNORECASE)\n",
    "    matches = regex.finditer(message_text)\n",
    "    \n",
    "    for match in matches:\n",
    "        return match.group(1)\n",
    "    \n",
    "    # if there were no matches, return None\n",
    "    return None\n"
   ]
  },
  {
   "cell_type": "code",
   "execution_count": null,
   "metadata": {
    "collapsed": true
   },
   "outputs": [],
   "source": [
    "def get_latest_news(topic):\n",
    "    \n",
    "    '''\n",
    "    Returns a list of dictionaries with the article title and information\n",
    "    for all articles that match the given topic\n",
    "    '''\n",
    "    \n",
    "    api_key = 'a143c58fdb33406db9ea1d80fa4d5d74'\n",
    "    url = 'https://api.nytimes.com/svc/topstories/v2/home.json?api-key=' + api_key\n",
    "    data = requests.get(url).json()[\"results\"] \n",
    "    \n",
    "    # Create a list of dictionaries. \n",
    "    # Each dictionary has entries for article title, section, author, and abstract \n",
    "    result = [ {\"title\": entry[\"title\"], \"section\": entry[\"section\"], \\\n",
    "               \"author\": entry[\"byline\"], \"abstract\": entry[\"abstract\"]} \n",
    "            for entry in data if topic.lower() in entry[\"title\"].lower()]\n",
    "    \n",
    "    return result\n"
   ]
  },
  {
   "cell_type": "code",
   "execution_count": null,
   "metadata": {
    "collapsed": false
   },
   "outputs": [],
   "source": [
    "def create_message(username, topic):\n",
    "    \n",
    "    '''\n",
    "    This function takes as input the username of the user that asked the question,\n",
    "    and the station_name that we managed to extract from the question (potentially it can be None)\n",
    "    We check the NYTimes API and respond with the status of the NYTimes.\n",
    "    '''\n",
    "    \n",
    "    if topic != None:\n",
    "        \n",
    "        # We want to address the user with the username. Potentially, we can also check\n",
    "        # if the user has added a first and last name, and use these instead of the username\n",
    "        message = \"Thank you @{u} for asking. \"\\\n",
    "            .format(u=username, t=topic)\n",
    "\n",
    "        # Let's get the data from the NYTimes API\n",
    "        matching_articles = get_latest_news(topic)\n",
    "        \n",
    "        # If we cannot find any matching articles\n",
    "        if len(matching_articles) == 0:\n",
    "            message += \"Sorry, I could not find any articles about '{t}'.\\n\".format(t=topic)\n",
    "            \n",
    "        # If there are one or more matching articles\n",
    "        if len(matching_articles) >= 1:\n",
    "            message += \"Here's your daily digest on '{t}':\\n\\n\".format(t=topic)\n",
    "            \n",
    "        # Add the information for each article\n",
    "        count = 1\n",
    "        for article in matching_articles:\n",
    "            \n",
    "            # limit number of articles to 5\n",
    "            if count >= 5:\n",
    "                break\n",
    "                \n",
    "            title = article['title']\n",
    "            section = article['section']\n",
    "            au = article['author']\n",
    "            author = au[3:].title() # format string\n",
    "            if \" And \" in author:\n",
    "                author = author.replace(\" And \", \" and \")\n",
    "            ab = article['abstract']\n",
    "            abstract = ab[:1].lower() + ab[1:] # format string\n",
    "            \n",
    "            # string it all together\n",
    "            if \" and \" in author:\n",
    "                message += \"{c}. In {s} news, {t}. {a} discuss how {b}\\n\\n\"\\\n",
    "                    .format(c=count, s=section, t=title, a=author, b=abstract)\n",
    "            else:\n",
    "                message += \"{c}. In {s} news, {t}. {a} discusses how {b}\\n\\n\"\\\n",
    "                    .format(c=count, s=section, t=title, a=author, b=abstract)\n",
    "                \n",
    "            count += 1\n",
    "   \n",
    "    else: # error\n",
    "        \n",
    "        message =  \"Thank you @{u} for asking. \".format(u=username)\n",
    "        message += \"Unfortunately, I did not understand your query.\\n\"\n",
    "        message += \"Try asking me `what is the latest news on XXXXX`\"\n",
    "        \n",
    "    return message\n"
   ]
  },
  {
   "cell_type": "code",
   "execution_count": null,
   "metadata": {
    "collapsed": true
   },
   "outputs": [],
   "source": [
    "# Read the access token from the file and create the Slack Client\n",
    "import json\n",
    "\n",
    "secrets_file = 'slack_secret.json'\n",
    "f = open(secrets_file, 'r') \n",
    "content = f.read()\n",
    "f.close()\n",
    "\n",
    "auth_info = json.loads(content)\n",
    "auth_token = auth_info[\"access_token\"]\n",
    "bot_user_id = auth_info[\"user_id\"]\n",
    "\n",
    "from slackclient import SlackClient\n",
    "sc = SlackClient(auth_token)\n",
    "\n"
   ]
  },
  {
   "cell_type": "code",
   "execution_count": null,
   "metadata": {
    "collapsed": false
   },
   "outputs": [],
   "source": [
    "# Connect to the Real Time Messaging API of Slack and process the events\n",
    "\n",
    "if sc.rtm_connect():\n",
    "   \n",
    "    # Continuously monitor Slack API for recent events\n",
    "    while True:\n",
    "        \n",
    "        # Wait 1 second between monitoring attempts\n",
    "        time.sleep(1)\n",
    "        \n",
    "        # If there are any new events, we will get a response. \n",
    "        # If there are no events, the response will be empty\n",
    "        response = sc.rtm_read()\n",
    "        \n",
    "        for item in response:\n",
    "            \n",
    "            # Check that the event is a message. \n",
    "            # If not, ignore and proceed to the next event.\n",
    "            if item.get(\"type\") != 'message':\n",
    "                continue\n",
    "                \n",
    "            # Check that the message comes from a user. \n",
    "            # If not, ignore and proceed to the next event.\n",
    "            if item.get(\"user\") == None:\n",
    "                continue\n",
    "            \n",
    "            # Check that the message is asking the bot to do something. \n",
    "            # If not, ignore and proceed to the next event.\n",
    "            message_text = item.get('text')\n",
    "            if not message_matches(bot_user_id, message_text):\n",
    "                continue\n",
    "                \n",
    "            # Get the username of the user who asked the question\n",
    "            response = sc.api_call(\"users.info\", user=item[\"user\"])\n",
    "            username = response['user'].get('name')\n",
    "            \n",
    "            # Extract topic from the user's message\n",
    "            topic = extract_topic(message_text)\n",
    "\n",
    "            # Prepare the message that we will send back to the user\n",
    "            message = create_message(username, topic)\n",
    "\n",
    "            # Post a response to the appropriate channel\n",
    "            sc.api_call(\"chat.postMessage\", channel=\"#assignment2_bots\", text=message)\n",
    "                \n",
    "        "
   ]
  },
  {
   "cell_type": "code",
   "execution_count": null,
   "metadata": {
    "collapsed": true
   },
   "outputs": [],
   "source": []
  }
 ],
 "metadata": {
  "kernelspec": {
   "display_name": "Python 3",
   "language": "python",
   "name": "python3"
  },
  "language_info": {
   "codemirror_mode": {
    "name": "ipython",
    "version": 3
   },
   "file_extension": ".py",
   "mimetype": "text/x-python",
   "name": "python",
   "nbconvert_exporter": "python",
   "pygments_lexer": "ipython3",
   "version": "3.5.2"
  }
 },
 "nbformat": 4,
 "nbformat_minor": 2
}
